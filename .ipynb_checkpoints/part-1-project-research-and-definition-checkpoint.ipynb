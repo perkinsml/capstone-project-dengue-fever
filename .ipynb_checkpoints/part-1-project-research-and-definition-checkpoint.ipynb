{
 "cells": [
  {
   "cell_type": "markdown",
   "metadata": {},
   "source": [
    "<img src=\"images/project_title.png\" style=\"width:85%\">"
   ]
  },
  {
   "cell_type": "markdown",
   "metadata": {
    "toc": true
   },
   "source": [
    "<h1>Table of Contents<span class=\"tocSkip\"></span></h1>\n",
    "<div class=\"toc\"><ul class=\"toc-item\"><li><span><a href=\"#Background\" data-toc-modified-id=\"Background-1\"><span class=\"toc-item-num\">1&nbsp;&nbsp;</span>Background</a></span><ul class=\"toc-item\"><li><span><a href=\"#What-is-Dengue-Fever?\" data-toc-modified-id=\"What-is-Dengue-Fever?-1.1\"><span class=\"toc-item-num\">1.1&nbsp;&nbsp;</span>What is Dengue Fever?</a></span></li><li><span><a href=\"#How-is-Dengue-Fever-spread?\" data-toc-modified-id=\"How-is-Dengue-Fever-spread?-1.2\"><span class=\"toc-item-num\">1.2&nbsp;&nbsp;</span>How is Dengue Fever spread?</a></span></li><li><span><a href=\"#Where-can-outbreaks-occur?\" data-toc-modified-id=\"Where-can-outbreaks-occur?-1.3\"><span class=\"toc-item-num\">1.3&nbsp;&nbsp;</span>Where can outbreaks occur?</a></span></li><li><span><a href=\"#What-factors-influence-dengue-incidence?\" data-toc-modified-id=\"What-factors-influence-dengue-incidence?-1.4\"><span class=\"toc-item-num\">1.4&nbsp;&nbsp;</span>What factors influence dengue incidence?</a></span></li></ul></li><li><span><a href=\"#The-Project\" data-toc-modified-id=\"The-Project-2\"><span class=\"toc-item-num\">2&nbsp;&nbsp;</span>The Project</a></span><ul class=\"toc-item\"><li><span><a href=\"#Objectives\" data-toc-modified-id=\"Objectives-2.1\"><span class=\"toc-item-num\">2.1&nbsp;&nbsp;</span>Objectives</a></span></li><li><span><a href=\"#Modeling-Approach\" data-toc-modified-id=\"Modeling-Approach-2.2\"><span class=\"toc-item-num\">2.2&nbsp;&nbsp;</span>Modeling Approach</a></span></li><li><span><a href=\"#Measuring-Success\" data-toc-modified-id=\"Measuring-Success-2.3\"><span class=\"toc-item-num\">2.3&nbsp;&nbsp;</span>Measuring Success</a></span></li><li><span><a href=\"#Benefits-and-Audiences\" data-toc-modified-id=\"Benefits-and-Audiences-2.4\"><span class=\"toc-item-num\">2.4&nbsp;&nbsp;</span>Benefits and Audiences</a></span></li><li><span><a href=\"#Risks-and-Issues\" data-toc-modified-id=\"Risks-and-Issues-2.5\"><span class=\"toc-item-num\">2.5&nbsp;&nbsp;</span>Risks and Issues</a></span></li><li><span><a href=\"#San-Juan,-Puerto-Rico\" data-toc-modified-id=\"San-Juan,-Puerto-Rico-2.6\"><span class=\"toc-item-num\">2.6&nbsp;&nbsp;</span>San Juan, Puerto Rico</a></span><ul class=\"toc-item\"><li><span><a href=\"#Dengue-in-San-Juan,-Puerto-Rico\" data-toc-modified-id=\"Dengue-in-San-Juan,-Puerto-Rico-2.6.1\"><span class=\"toc-item-num\">2.6.1&nbsp;&nbsp;</span>Dengue in San Juan, Puerto Rico</a></span></li></ul></li><li><span><a href=\"#Iquitos,-Peru\" data-toc-modified-id=\"Iquitos,-Peru-2.7\"><span class=\"toc-item-num\">2.7&nbsp;&nbsp;</span>Iquitos, Peru</a></span><ul class=\"toc-item\"><li><span><a href=\"#Dengue-in-Iquitos,-Peru\" data-toc-modified-id=\"Dengue-in-Iquitos,-Peru-2.7.1\"><span class=\"toc-item-num\">2.7.1&nbsp;&nbsp;</span>Dengue in Iquitos, Peru</a></span></li></ul></li></ul></li></ul></div>"
   ]
  },
  {
   "cell_type": "markdown",
   "metadata": {},
   "source": [
    "<img src=\"images/dengue_mosquito.jpg\" style=\"width:85%\">\n",
    "<i><center>The Aedes mosquito, the main vector that transmits the viruses that cause Dengue Fever</center></i>"
   ]
  },
  {
   "cell_type": "markdown",
   "metadata": {},
   "source": [
    "<img src=\"images/project_title.png\" style=\"width:85%\">"
   ]
  },
  {
   "cell_type": "markdown",
   "metadata": {},
   "source": [
    "# Background"
   ]
  },
  {
   "cell_type": "markdown",
   "metadata": {},
   "source": [
    "## What is Dengue Fever?"
   ]
  },
  {
   "cell_type": "markdown",
   "metadata": {},
   "source": [
    "Dengue (pronounced den'gee) Fever is a disease caused by any one of four distinct, but closely-related \n",
    "dengue viruses transmitted by mosquitoes, primarily the <i>Aedes</i> mosquito (pictured above).  The principal symptoms of dengue fever are high fever, severe headache, severe pain behind the eyes, rash, mild nose and gum bleeding, and \n",
    "muscle, joint and bone pain.  5% of those infected develop a more severe case of dengue fever, characterised by persistent vomiting, \n",
    "severe abdominal pain, difficulty breathing and internal bleeding, which can lead to failure of the circulatory system and death.  Symptoms of infection usually begin 4-7 days after the mosquito bite and typically last 3-10 days.  When infected, early recognition, and prompt supportive treatment can substantially lower the risk of medical complications and death.\n",
    "\n",
    "Due to global warming, decreased heavy pesticide use due to environmental concerns and the <i>Aedes</i> mosquito’s preference for urban environments, the number and severity of dengue infections has increased since the second world war. With a 30-fold increase between 1960 and 2010, it is now 20 times more common than the flu.  2.5 billion people, or 40% of the world's population, live in areas where there is a risk of dengue transmission.  Dengue is currently endemic (i.e. infections are reported every year) in at least 100 countries (compared to 9 countries in 1970) in Asia, the Pacific, the Americas, Africa and the Caribbean, and it's the leading causes of illness and death in the tropics and subtropics.  As many as 400 million people are infected yearly.  The Sri Lankan Ministry of Health reported 61,844 cases of dengue fever in 2017 as of June 13, while Brazil reported almost 1.5 million cases in 2016.\n",
    "\n",
    "There is no vaccine to prevent infection from the dengue viruses and there are no medications to treat a dengue infection.  The most effective protective measures are therefore those that avoid mosquito bites.  This includes the elimination of places where mosquitoes lay their eggs, primarily artificial containers that hold water; requiring regular cleaning of vases, pet watering containers and covering water storage tanks etc.  Using air conditioning or window and door screens prevent mosquitoes coming indoors, and application of appropriate repellents also reduce the risk of being bitten by mosquitoes."
   ]
  },
  {
   "cell_type": "markdown",
   "metadata": {},
   "source": [
    "## How is Dengue Fever spread?\n",
    "The four different types of dengue viruses are transmitted to humans by the bite of an \n",
    "<i>Aedes</i> mosquito (pictured above) that is infected with a dengue virus.  \n",
    "\n",
    "Once infected, humans become the main carriers and multipliers of the virus, serving as a source of the virus for uninfected mosquitoes.  A mosquito becomes infected with dengue virus when it bites a person who has dengue virus in their blood.  In order for transmission to the mosquito to occur, it must bite an infected person during a 5 day period when large amounts of the virus are in the person's blood; this period usually begins before the person becomes symptomatic.  An infected person may not always exhibit symptoms of dengue virus.  In any case, approximately 7-12 days after biting an infected person, a mosquito can then transmit the virus to healthy people.  The mosquito remains infected with the dengue virus for the duration of its life, which may be days or a few weeks. \n",
    "\n",
    "Dengue cannot be spread from person to person.\n",
    "\n",
    "Infection from one dengue virus does not protect against the others, and sequential infections put people at greater risk of more severe dengue infections.\n",
    "\n"
   ]
  },
  {
   "cell_type": "markdown",
   "metadata": {},
   "source": [
    "## Where can outbreaks occur?\n",
    "Outbreaks of dengue fever occur primarily in areas where <i>Aedes</i> mosquitoes live, which includes most tropical urban areas in the world.  In many parts of the tropics and subtropics, dengue is endemic; this is, it occurs every year, usually during a season when <i>Aedes</i> mosquito populations are high, and often when rainfall is optimal for breeding.  In areas where dengue is endemic, incidence follows seasonal transmission patterns punctuated every few years by much larger epidemics, when large numbers of people become infected during a short period of time.  Dengue epidemics require a coincidence of a large number of mosquito carriers, large numbers of people with no immunity to one of the four virus types, and the opportunity for contact between the two.\n",
    "\n",
    "Dengue viruses may also be introduced into areas by travellers who became infected while visiting other areas of the tropics where dengue commonly exists however, introduction of the virus into new areas also requires the presence of the <i>Aedes</i> mosquito, and it is this limiting factor which has largely contained the virus to tropical and subtropical areas.  \n",
    "\n",
    "Climate change projections suggest dengue transmission will expand its latitudinal and altitudinal range.\n"
   ]
  },
  {
   "cell_type": "markdown",
   "metadata": {},
   "source": [
    "<img src='images/dengue_risk_areas_who1.png' style='width:90%'>"
   ]
  },
  {
   "cell_type": "markdown",
   "metadata": {},
   "source": [
    "## What factors influence dengue incidence?\n",
    "\n",
    "The <i>Aedes</i> mosquito, the principal vector of dengue viruses in an insect closely related to humans and their dwellings.  People not only provide the mosquitoes with blood meals, but they also provide water containers in and around their home, which are needed by mosquitoes to complete their development.  <i>Aedes</i> mosquitoes can lay their eggs in a single drop of water.  Homes also provide the cool, dark places (e.g. cupboards) preferred by mosquitoes.\n",
    "\n",
    "It's very difficult to control or eliminate <i>Aedes</i> mosquitoes because they are highly resilient, and have the ability to rapidly bounce back to initial populations after natural (e.g drought) or man-made (e.g. insecticides) disturbances.  Studies have demonstrated that even after the elimination of all larvae, pupae and adult mosquitoes at once from a site, a mosquito population can fully recover two weeks later as a result of egg hatching after rainfall.\n",
    "\n",
    "Despite their resilience, <i>Aedes</i> mosquitoes are cold-blooded, which makes them highly sensitive to environmental conditions.  Temperature, precipitation and humidity are critical to mosquito survival, reproduction and development, which influences their distribution and abundance.  Additionally, warmer temperatures also reduce the time for the mosquito to become infectious after it has bitten a human carrier of the virus.\n",
    "\n",
    "Although environmental factors are important, there are many other factors that influence the prevalence of dengue fever.  The virus must be present, there must be sufficient numbers of humans not immune to the virus and there must be contact between those humans and mosquitoes.  In countries where dengue transmission routinely occurs, short-term changes in weather - particularly temperature, precipitation and humidity - are often correlated with dengue incidence.  These relationships however, do not explain the occurrence of major epidemics in these areas every few years.  A more important regulator of epidemics may be the interplay of the four different dengue viruses, and the level of prior exposure of the human population to each of these.\n",
    "\n",
    "Although climate may play a role in changing dengue incidence and distribution, it's one of many factors, and given its poor correlation with historical changes in incidence and epidemics, its role may be minor.  Other important factors potentially contributing to global changes in dengue incidence and distribution include population growth, urbanisation, lack of sanitation, increased long distance travel, ineffective mosquito control and increased reporting capacity.\n",
    "\n",
    "\n"
   ]
  },
  {
   "cell_type": "markdown",
   "metadata": {},
   "source": [
    "# The Project"
   ]
  },
  {
   "cell_type": "markdown",
   "metadata": {},
   "source": [
    "## Objectives\n",
    "\n",
    "In areas where dengue is endemic, incidence follows seasonal transmission patterns punctuated every few years by much larger epidemics. Because these epidemics are currently unpredictable and of major consequence to the affected populations, the initial focus of this project will be predicting the key metrics associated with historical dengue seasons. \n",
    "\n",
    "In addition to this, this project aims to:\n",
    "- understand the relationship between weekly dengue case counts and environmental predictors,\n",
    "- determine the level of accuracy in predicting weekly dengue case counts over a multi-year timeframe, 4 weeks in advance.  The 4 week lead time is critical as it enables sufficient time for meaningful interventions.\n",
    "\n",
    "The data for my project will be split into train and test components, with the testing data used to assess the accuracy of my models.  <b>With a 4 week lead time</b>, the following outcomes will be modeled for this test data:\n",
    "\n",
    "<b>A. Timing of peak incidence</b>, the week when the highest incidence of dengue occurs during the transmission season<br>\n",
    "<b>B. Maximum weekly incidence</b>, the number of dengue cases reported during the week when incidence peaks in the transmission season<br>\n",
    "<b>C. Predicted weekly counts</b> of dengue fever throughout the season<br>\n",
    "<b>D. Total number of cases</b> in a transmission season<br>\n",
    "<b>E. Accuracy of seasonal cycle</b> representation\n",
    "\n",
    "These predictions will be made for the two endemic locations listed below based on environmental variables including  temperature, precipitation and vegetation:<br>\n",
    "- San Juan, Peurto Rico\n",
    "- Iquitos, Peru<br>"
   ]
  },
  {
   "cell_type": "markdown",
   "metadata": {},
   "source": [
    "## Modeling Approach\n",
    "\n",
    "The lagged relationships between aggregated weekly environmental/feature data and weekly case counts of dengue fever will be examined, and these relationships will provide the basis for a range of Linear Regression models that will be used to predict weekly case counts of dengue fever over a multi-year time frame with a 4 week lead time.  In addition to environmental predictors, I'll also include features to represent the known history of the outcome data itself (e.g. weekly dengue case counts 4 weeks prior) to represent the role that infected people play in spreading the illness.  \n"
   ]
  },
  {
   "cell_type": "markdown",
   "metadata": {},
   "source": [
    "## Measuring Success\n",
    "Success will be measured through the:\n",
    "- R2 score of regression models, and the root mean square error when models are applied to the test sets \n",
    "- predicting the timing of the peak seasonal incidence within a specified confidence interval\n",
    "- classifications models performing better than the baseline when predicting whether case counts will be exceed the mean\n",
    "- statistically significant correlation coefficients between dengue case counts and lagged climatic variables."
   ]
  },
  {
   "cell_type": "markdown",
   "metadata": {},
   "source": [
    "## Benefits and Audiences\n",
    "An accurate 4 week prediction of dengue fever incidence enables meaningful interventions, such as:\n",
    "- Communication campaigns to heighten awareness of high risk environmental factors and encourage individual and household preventative measures.  Earlier recognition of the virus also lowers the risk of medical complications.\n",
    "- Mosquito population control measure and distribution of nets\n",
    "- Allowing medical authorities to prepare for potential epidemices to ensure sufficient supportive treaments are in place, especially for major epidemics which typically occur in endemic areas every 3-5 years. Untreated dengue fever has a mortality rate of about 5%; fortunately, with treatment that number drops to zero.\n",
    "- Enhances understanding of drivers for outbreaks, and how the footprint of dengue fever may evolve with climate change and increased urbanisation\n",
    "- <b>Potential audiences:</b>  Health and government agencies.  General population.\n"
   ]
  },
  {
   "cell_type": "markdown",
   "metadata": {},
   "source": [
    "## Risks and Issues\n",
    "\n",
    "- As outlined above, the symptoms associated with dengue fever are non-specific and can lead to misdiagnosis or failure to diagnose at all, compromising the integrity of the dengue fever counts.\n",
    "- Severe disease outcomes are known to be influenced by a variety of intrinsic factors (e.g. virus virulence, host exposure history) and not necessarily external drivers, such as climatic conditions. Data to quantify these intrinsic factors is not available, which will compromise my ability to accurately model dengue fever counts.\n",
    "- Key drivers of dengue transmission are recognised to vary across contexts and transmission of diseases is generally recongised as very difficult to model, which may lead to disappointing results in my modeling.\n",
    "- My models cannot predict the impact of mosquito control interventions to limit populations, which will further impact the accuracy of my models"
   ]
  },
  {
   "cell_type": "markdown",
   "metadata": {},
   "source": [
    "## San Juan, Puerto Rico\n",
    "San Juan is the capital and most populous municipality in Puerto Rico (which is a territory of the United States), and is located along the north-eastern coast of the island. The city occupies an area of 199.2 km2, of which, 37.83% is water. San Juan's main water bodies are San Juan Bay and two natural lagoons.\n",
    "\n",
    "San Juan has a tropical monsoon climate, with an average temperature of 27.2 °C, although temperatures exceed 32 °C on an average of 79 days annually, more commonly occurring during the wetter months of the northern summer.  In the winter, temperatures can drop to around 16 °C, though the average winter low is 22 °C.  Rainfall is well-distributed throughout the year, but the months of January, February, and March are the driest. Rainfall averages 1,431.3 mm, falling on an average 198.5 days per year.\n",
    "\n",
    "The dengue fever data analysed for this project includes the San Juan-Caguas-Guaynabo Metropolitan Statistical Area, which covers approximately half the island of Puerto Rico, including the city of San Juan itself.\n",
    "\n",
    "### Dengue in San Juan, Puerto Rico\n",
    "Puerto Rico has experienced epidemic dengue activity perdiodically since 1963.  It continues to be endemic in Puerto Rico, with between 3,000 and 9,000 cases reported in non-epidemic years.  Since 1990, there have been 4 large epidemics, with 24,700, 17,000, 10,508 and 26,776 cases reported in 1994, 1998, 2007 and 2010 respectively.\n",
    "\n",
    "Control of dengue in the 1970-80s relied on application of pesticides and household inspetions.  It quickly became evident that these practices were unsustainable and the focus shifted towards citizen involvement in the control of breeding sites in yards and homes, personal protection through insect repellant and education on symptom recongition.\n",
    "\n",
    "The Dengue branch of the US Centres for Disease Control and Prevention is located in San Juan, Puerto Rico.\n"
   ]
  },
  {
   "cell_type": "markdown",
   "metadata": {},
   "source": [
    "## Iquitos, Peru\n",
    "Iquitos is a city of less than 500,000 inhabitants located in the Amazon basin of northeastern Peru (73.2°W, 3.7°S, 120 m above sea level).  The city is surrounded on 3 sides by the Nanay, Itaya and Amazon Rivers. It's the sixth most populous city in Peru, and can only be reached by air or boat.\n",
    "\n",
    "Iquitos has an equatorial climate, with no distinct dry season and constant rainfall throughout the year (on 51.6% of days), but a wetter summer. Temperatures range from 21 to 33 °C. and the annual average temperature is 26.7 °C. The average annual rainfall in Iquitos is 2,616.2 millimetres.  The rainy summer arrives in November and ends in May. March and April have the heaviest rains and humidity. Although July and August are the driest months, they have some periods of downpours. Iquitos suffers from a phenomenon called urban heat island, when the city's heat has difficulty dissipating during the night hours due to absorption by buildings and pavement.\n",
    " \n",
    "Along the Amazon River, one of the rivers surrounding the city, the fluctuation of water levels is considered a natural history event.  During high water times and low water extremes, the difference in water levels may be up to 14 metres in one year in the Iquitos area. The high water is caused by snow melt from the Andes and upstream rainfall, and extends from December through May, with low water  from June through November. Of course this varies considerably and in some years the water level may not fluctuate greatly at all.\n",
    "\n",
    "\n",
    "### Dengue in Iquitos, Peru\n",
    "\n",
    "The <i>Aedes</i> mosquito has not always been found in Peru. Half a century ago, public health officials unleashed chemical insecticides and eradicated it from large parts of Latin America. By the late 1970s, it was gone from all of Peru. As a result, dengue fever disappeared, too.  However, in nearby Venezuela the mosquito survived, and 10 years later it inevitably returned to Peru.  The first city in Peru where it resurfaced was Iquitos, and the dengue virus soon followed. \n",
    "\n",
    "Since the U.S. Navy already had a research laboratory in Iquitos, researchers there had a front row seat to watch the \"re-invasion\" of dengue. It's become one of the world's main centers for studying the virus and the mosquito that spreads it.\n",
    "\n",
    "In response to ongoing dengue outbreaks in Iquitos, the Health Department undertook 4 large-scale (and prolonged) mosquito control interventions during the time period being examined, treating approximately 40% of all households in the city.  These interventions cannot be be included in the modeling efforts of dengue cases, but will be considered qualitatively in the context of the results.  The dates for these interventions were:\n",
    "- Oct 23rd, 2002 to Feb 10th, 2003\n",
    "- Dec 1st, 2004 to Jan 5th, 2005\n",
    "- Dec 27th, 2007 to Mar 8th, 2008\n",
    "- Oct 20th, 2008 to Nov 3rd, 2008 and Feb 5th, 2009 to Feb 21st, 2009\n"
   ]
  }
 ],
 "metadata": {
  "kernelspec": {
   "display_name": "Python 3",
   "language": "python",
   "name": "python3"
  },
  "language_info": {
   "codemirror_mode": {
    "name": "ipython",
    "version": 3
   },
   "file_extension": ".py",
   "mimetype": "text/x-python",
   "name": "python",
   "nbconvert_exporter": "python",
   "pygments_lexer": "ipython3",
   "version": "3.6.4"
  },
  "toc": {
   "nav_menu": {},
   "number_sections": true,
   "sideBar": true,
   "skip_h1_title": false,
   "title_cell": "Table of Contents",
   "title_sidebar": "Contents",
   "toc_cell": true,
   "toc_position": {
    "height": "calc(100% - 180px)",
    "left": "10px",
    "top": "150px",
    "width": "250px"
   },
   "toc_section_display": true,
   "toc_window_display": true
  }
 },
 "nbformat": 4,
 "nbformat_minor": 2
}
